{
 "cells": [
  {
   "cell_type": "markdown",
   "metadata": {},
   "source": [
    "# Text Processing\n",
    "\n",
    "Python offers a set of tools for extracting features:http://scikit-learn.org/stable/modules/feature_extraction.html"
   ]
  },
  {
   "cell_type": "code",
   "execution_count": 1,
   "metadata": {},
   "outputs": [
    {
     "name": "stdout",
     "output_type": "stream",
     "text": [
      "Upgrading pip...\n",
      "Requirement already satisfied: pip in ./ml-concepts/lib/python3.11/site-packages (25.0.1)\n",
      "Installing scikit-learn...\n",
      "Requirement already satisfied: scikit-learn in ./ml-concepts/lib/python3.11/site-packages (1.6.1)\n",
      "Requirement already satisfied: numpy>=1.19.5 in ./ml-concepts/lib/python3.11/site-packages (from scikit-learn) (2.1.3)\n",
      "Requirement already satisfied: scipy>=1.6.0 in ./ml-concepts/lib/python3.11/site-packages (from scikit-learn) (1.15.2)\n",
      "Requirement already satisfied: joblib>=1.2.0 in ./ml-concepts/lib/python3.11/site-packages (from scikit-learn) (1.4.2)\n",
      "Requirement already satisfied: threadpoolctl>=3.1.0 in ./ml-concepts/lib/python3.11/site-packages (from scikit-learn) (3.6.0)\n",
      "All dependencies are installed.\n"
     ]
    }
   ],
   "source": [
    "import sys\n",
    "import subprocess\n",
    "\n",
    "# Upgrade pip before installing packages\n",
    "print(\"Upgrading pip...\")\n",
    "subprocess.check_call([sys.executable, \"-m\", \"pip\", \"install\", \"--upgrade\", \"pip\"])\n",
    "\n",
    "# List of required packages\n",
    "required_packages = ['scikit-learn']\n",
    "\n",
    "# Check and install missing packages\n",
    "for package in required_packages:\n",
    "    try:\n",
    "        __import__(package)\n",
    "    except ImportError:\n",
    "        print(f\"Installing {package}...\")\n",
    "        subprocess.check_call([sys.executable, \"-m\", \"pip\", \"install\", package])\n",
    "\n",
    "print(\"All dependencies are installed.\")"
   ]
  },
  {
   "cell_type": "markdown",
   "metadata": {},
   "source": [
    "## Text Processing"
   ]
  },
  {
   "cell_type": "code",
   "execution_count": 2,
   "metadata": {},
   "outputs": [],
   "source": [
    "corpus = ['This is the first document.',\n",
    "           'this is the second second document.',\n",
    "           'And the third one.',\n",
    "           'Is this the first first first document?',\n",
    "          ]"
   ]
  },
  {
   "cell_type": "markdown",
   "metadata": {},
   "source": [
    "### CountVectorizer \n",
    "\n",
    "CountVectorizer transforms text into a sparse matrix where rows are text and columns are words, and values are occurrence values."
   ]
  },
  {
   "cell_type": "code",
   "execution_count": 3,
   "metadata": {},
   "outputs": [
    {
     "name": "stdout",
     "output_type": "stream",
     "text": [
      "<class 'scipy.sparse._csr.csr_matrix'>\n",
      "[[0 1 1 1 0 0 1 0 1]\n",
      " [0 1 0 1 0 2 1 0 1]\n",
      " [1 0 0 0 1 0 1 1 0]\n",
      " [0 1 3 1 0 0 1 0 1]]\n",
      "['and' 'document' 'first' 'is' 'one' 'second' 'the' 'third' 'this']\n"
     ]
    }
   ],
   "source": [
    "import sklearn.feature_extraction.text as sk_text\n",
    "\n",
    "vectorizer = sk_text.CountVectorizer(min_df=1)\n",
    "#vectorizer = sk_text.CountVectorizer(stop_words = 'english')\n",
    "\n",
    "#min_df: ignore terms that have a document frequency < min_df.\n",
    "\n",
    "matrix = vectorizer.fit_transform(corpus)\n",
    "\n",
    "print(type(matrix))          # Compressed Sparse Row matrix\n",
    "print(matrix.toarray())        #  convert it to numpy array\n",
    "\n",
    "print(vectorizer.get_feature_names_out())"
   ]
  },
  {
   "cell_type": "markdown",
   "metadata": {},
   "source": [
    "### TfIdfVectorizer\n",
    "\n",
    "TfIdfVectorizer transforms text into a sparse matrix where rows are text and columns are words, and values are the tf-dif values. More here: http://scikit-learn.org/stable/modules/generated/sklearn.feature_extraction.text.TfidfVectorizer.html#sklearn.feature_extraction.text.TfidfVectorizer"
   ]
  },
  {
   "cell_type": "code",
   "execution_count": 4,
   "metadata": {},
   "outputs": [
    {
     "name": "stdout",
     "output_type": "stream",
     "text": [
      "<class 'scipy.sparse._csr.csr_matrix'>\n",
      "[[0.         0.43877674 0.54197657 0.43877674 0.         0.\n",
      "  0.35872874 0.         0.43877674]\n",
      " [0.         0.27230147 0.         0.27230147 0.         0.85322574\n",
      "  0.22262429 0.         0.27230147]\n",
      " [0.55280532 0.         0.         0.         0.55280532 0.\n",
      "  0.28847675 0.55280532 0.        ]\n",
      " [0.         0.23973261 0.88835239 0.23973261 0.         0.\n",
      "  0.19599711 0.         0.23973261]]\n",
      "['and' 'document' 'first' 'is' 'one' 'second' 'the' 'third' 'this']\n"
     ]
    }
   ],
   "source": [
    "vectorizer = sk_text.TfidfVectorizer(\n",
    "                             #stop_words='english',\n",
    "                             #max_features = 1000,\n",
    "                             min_df=1)\n",
    "\n",
    "\n",
    "#max_features:  build a vocabulary that only consider the top max_features features ordered by term frequency across the corpus.\n",
    "\n",
    "matrix = vectorizer.fit_transform(corpus)\n",
    "\n",
    "print(type(matrix))          # Compressed Sparse Row matrix\n",
    "print(matrix.toarray())        #  convert it to numpy array\n",
    "\n",
    "print(vectorizer.get_feature_names_out())"
   ]
  },
  {
   "cell_type": "code",
   "execution_count": 5,
   "metadata": {},
   "outputs": [
    {
     "name": "stdout",
     "output_type": "stream",
     "text": [
      "<class 'scipy.sparse._csr.csr_matrix'>\n",
      "[[0.43877674 0.54197657 0.43877674 0.35872874 0.43877674]\n",
      " [0.52210862 0.         0.52210862 0.42685801 0.52210862]\n",
      " [0.         0.         0.         1.         0.        ]\n",
      " [0.23973261 0.88835239 0.23973261 0.19599711 0.23973261]]\n",
      "['document' 'first' 'is' 'the' 'this']\n"
     ]
    }
   ],
   "source": [
    "vectorizer = sk_text.TfidfVectorizer(#stop_words='english',\n",
    "                             #max_features = 1000,\n",
    "                             min_df=2, \n",
    "                             #max_df=5\n",
    "                             )\n",
    "\n",
    "#min_df: ignore terms that have a document frequency < min_df.\n",
    "#max_df: ignore terms that have a document frequency > max_df\n",
    "\n",
    "\n",
    "matrix = vectorizer.fit_transform(corpus)\n",
    "print(type(matrix))               # Compressed Sparse Row matrix\n",
    "\n",
    "tfidf_data = matrix.toarray()     #  convert it to numpy array\n",
    "\n",
    "print(tfidf_data)\n",
    "print(vectorizer.get_feature_names_out())"
   ]
  },
  {
   "cell_type": "code",
   "execution_count": null,
   "metadata": {},
   "outputs": [],
   "source": []
  }
 ],
 "metadata": {
  "kernelspec": {
   "display_name": "Python 3 (ipykernel)",
   "language": "python",
   "name": "python3"
  },
  "language_info": {
   "codemirror_mode": {
    "name": "ipython",
    "version": 3
   },
   "file_extension": ".py",
   "mimetype": "text/x-python",
   "name": "python",
   "nbconvert_exporter": "python",
   "pygments_lexer": "ipython3",
   "version": "3.11.11"
  }
 },
 "nbformat": 4,
 "nbformat_minor": 4
}
